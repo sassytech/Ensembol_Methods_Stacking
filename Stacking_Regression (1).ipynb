{
  "nbformat": 4,
  "nbformat_minor": 0,
  "metadata": {
    "colab": {
      "provenance": []
    },
    "kernelspec": {
      "name": "python3",
      "display_name": "Python 3"
    },
    "language_info": {
      "name": "python"
    }
  },
  "cells": [
    {
      "cell_type": "code",
      "execution_count": null,
      "metadata": {
        "id": "Msg270VnPmF3"
      },
      "outputs": [],
      "source": [
        "from numpy import mean\n",
        "from sklearn.datasets import make_regression\n",
        "from sklearn.model_selection import cross_val_score #for validation\n",
        "from sklearn.model_selection import RepeatedKFold\n",
        "from sklearn.linear_model import LinearRegression#level 1 meta model  rest are base model\n",
        "from sklearn.neighbors import KNeighborsRegressor\n",
        "from sklearn.tree import DecisionTreeRegressor\n",
        "from sklearn.svm import SVR\n",
        "from sklearn.ensemble import StackingRegressor"
      ]
    },
    {
      "cell_type": "code",
      "source": [
        "x,y=make_regression(n_samples=1000,n_features=20,random_state=1)"
      ],
      "metadata": {
        "id": "PNLod_NcQmML"
      },
      "execution_count": null,
      "outputs": []
    },
    {
      "cell_type": "code",
      "source": [
        "def get_stacking():\n",
        "  level0=list()\n",
        "  level0.append(('knn',KNeighborsRegressor()))\n",
        "  level0.append(('cart',DecisionTreeRegressor()))\n",
        "  level0.append(('svm',SVR()))\n",
        "  level1=LinearRegression()\n",
        "  model=StackingRegressor(estimators=level0,final_estimator=level1)\n",
        "  return model"
      ],
      "metadata": {
        "id": "Tb9RCQVjQ0LS"
      },
      "execution_count": null,
      "outputs": []
    },
    {
      "cell_type": "code",
      "source": [
        "def get_models():\n",
        "  models=dict()\n",
        "  models['knn']=KNeighborsRegressor()\n",
        "  models['cart']=DecisionTreeRegressor()\n",
        "  models['svm']=SVR()\n",
        "  models['stacking']=get_stacking()\n",
        "  return models"
      ],
      "metadata": {
        "id": "l4E4_rFURYpb"
      },
      "execution_count": null,
      "outputs": []
    },
    {
      "cell_type": "code",
      "source": [
        "def evaluate_model(model,x,y):\n",
        " cv=RepeatedKFold(n_splits=10,n_repeats=3,random_state=1)\n",
        " scores=cross_val_score(model,x,y,scoring='neg_mean_absolute_error',cv=cv)# in regression we don't go with accuracy so here we have taken negative mean absolute error\n",
        " return scores\n"
      ],
      "metadata": {
        "id": "ebkqY51qSCfj"
      },
      "execution_count": null,
      "outputs": []
    },
    {
      "cell_type": "code",
      "source": [
        "models=get_models()\n",
        "results,names=list(),list()\n",
        "for name,model in models.items():\n",
        "  scores=evaluate_model(model,x,y)\n",
        "  results.append(scores)\n",
        "  names.append(model)\n",
        "  print(name,mean(scores))"
      ],
      "metadata": {
        "colab": {
          "base_uri": "https://localhost:8080/"
        },
        "id": "iu3aBl5fSk8q",
        "outputId": "d7da7bef-3504-4504-8fe5-3039cdef71b4"
      },
      "execution_count": null,
      "outputs": [
        {
          "output_type": "stream",
          "name": "stdout",
          "text": [
            "knn -72.38368150286077\n",
            "cart -90.04281441182304\n",
            "svm -113.9538393363414\n",
            "stacking -40.80832754125035\n"
          ]
        }
      ]
    },
    {
      "cell_type": "code",
      "source": [],
      "metadata": {
        "id": "DT3y3OhaTC56"
      },
      "execution_count": null,
      "outputs": []
    }
  ]
}