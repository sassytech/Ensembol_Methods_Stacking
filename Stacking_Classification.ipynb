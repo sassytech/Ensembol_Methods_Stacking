{
  "nbformat": 4,
  "nbformat_minor": 0,
  "metadata": {
    "colab": {
      "provenance": []
    },
    "kernelspec": {
      "name": "python3",
      "display_name": "Python 3"
    },
    "language_info": {
      "name": "python"
    }
  },
  "cells": [
    {
      "cell_type": "code",
      "source": [],
      "metadata": {
        "id": "dIRalFx3O1ld"
      },
      "execution_count": null,
      "outputs": []
    },
    {
      "cell_type": "code",
      "execution_count": null,
      "metadata": {
        "id": "HdXS6fPGLaVv"
      },
      "outputs": [],
      "source": [
        "from sklearn.datasets import make_classification\n",
        "from sklearn.model_selection import cross_val_score\n",
        "from sklearn.model_selection import RepeatedStratifiedKFold\n",
        "from sklearn.linear_model import LogisticRegression\n",
        "from sklearn.neighbors import KNeighborsClassifier\n",
        "from sklearn.tree import DecisionTreeClassifier\n",
        "from sklearn.naive_bayes import GaussianNB\n",
        "from sklearn.svm import SVC"
      ]
    },
    {
      "cell_type": "code",
      "source": [
        "x,y=make_classification(n_samples=1000,n_features=20,random_state=1)"
      ],
      "metadata": {
        "id": "RrHmGFdxOBf-"
      },
      "execution_count": null,
      "outputs": []
    },
    {
      "cell_type": "code",
      "source": [
        "from sklearn.ensemble import StackingClassifier\n",
        "def get_stacking():\n",
        "  level0=list()\n",
        "  level0.append(('lr',LogisticRegression()))\n",
        "  level0.append(('knn',KNeighborsClassifier()))\n",
        "  level0.append(('cart',DecisionTreeClassifier()))\n",
        "  level0.append(('svm',SVC()))\n",
        "  level0.append(('bayes',GaussianNB()))\n",
        "  level1=LogisticRegression()\n",
        "  model=StackingClassifier(estimators=level0,final_estimator=level1)\n",
        "  return model"
      ],
      "metadata": {
        "id": "zC0qr-mGQptU"
      },
      "execution_count": null,
      "outputs": []
    },
    {
      "cell_type": "code",
      "source": [
        "def get_models():\n",
        "  models=dict()\n",
        "  models['lr']=LogisticRegression()\n",
        "  models['knn']=KNeighborsClassifier()\n",
        "  models['cart']=DecisionTreeClassifier()\n",
        "  models['svm']=SVC()\n",
        "  models['bayes']=GaussianNB()\n",
        "  models['stacking']=get_stacking()\n",
        "  return models"
      ],
      "metadata": {
        "id": "luV2K5BaTg0U"
      },
      "execution_count": null,
      "outputs": []
    },
    {
      "cell_type": "code",
      "source": [
        "def evaluate_model(model,x,y):\n",
        "  cv=RepeatedStratifiedKFold(n_splits=10,n_repeats=3,random_state=1)\n",
        "  scores=cross_val_score(model,x,y,scoring='accuracy',cv=cv)\n",
        "  return scores"
      ],
      "metadata": {
        "id": "ACoZFeoyPu6t"
      },
      "execution_count": null,
      "outputs": []
    },
    {
      "cell_type": "code",
      "source": [
        "from numpy import mean\n",
        "models=get_models()\n",
        "results,names=list(),list()\n",
        "for name,model in models.items():\n",
        "  scores=evaluate_model(model,x,y)\n",
        "  results.append(scores)\n",
        "  names.append(model)\n",
        "  print(name,mean(scores))\n"
      ],
      "metadata": {
        "colab": {
          "base_uri": "https://localhost:8080/"
        },
        "id": "h71MVEsTQRGl",
        "outputId": "c58b97c3-9930-4f96-ff60-6727f14ed1cb"
      },
      "execution_count": null,
      "outputs": [
        {
          "output_type": "stream",
          "name": "stdout",
          "text": [
            "lr 0.8406666666666668\n",
            "knn 0.7849999999999998\n",
            "cart 0.7836666666666665\n",
            "svm 0.8526666666666667\n",
            "bayes 0.8163333333333335\n",
            "stacking 0.8506666666666667\n"
          ]
        }
      ]
    }
  ]
}